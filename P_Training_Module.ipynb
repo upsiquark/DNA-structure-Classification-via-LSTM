{
 "cells": [
  {
   "cell_type": "code",
   "execution_count": 10,
   "id": "55837807",
   "metadata": {},
   "outputs": [],
   "source": [
    "import pylab as pl\n",
    "import numpy as np\n",
    "import scipy as sp\n",
    "import scipy.optimize as spo\n",
    "import pandas as pd\n",
    "from sklearn.metrics import ConfusionMatrixDisplay\n",
    "from sklearn.metrics import confusion_matrix\n",
    "import matplotlib.pyplot as plt\n",
    "import csv\n",
    "from sklearn.linear_model import LogisticRegression\n",
    "import tensorflow as tf\n",
    "from tensorflow import keras"
   ]
  },
  {
   "cell_type": "code",
   "execution_count": 29,
   "id": "295bf767",
   "metadata": {},
   "outputs": [],
   "source": [
    "batch_x_val = []\n",
    "\n",
    "df_3 = pd.read_csv('p_v_lin_200_ex.csv')\n",
    "\n",
    "for index, rows in df_3.iterrows():\n",
    "    list_3 = rows\n",
    "    batch_x_val.append(list_3)\n",
    "    \n",
    "df_4 = pd.read_csv('p_v_circ_200_ex.csv')\n",
    "for index, rows in df_4.iterrows():\n",
    "    list_4 = rows\n",
    "    batch_x_val.append(list_4)\n",
    "    \n",
    "batch_x_val = tf.convert_to_tensor(batch_x_val, dtype=tf.float32)"
   ]
  },
  {
   "cell_type": "code",
   "execution_count": 49,
   "id": "c66b72d9",
   "metadata": {},
   "outputs": [],
   "source": [
    "batch_x_test = []\n",
    "\n",
    "rows_to_keep = [150,299]\n",
    "df_3 = pd.read_csv('p_lin_200.csv',skiprows= lambda x: x not in rows_to_keep, usecols=range(71))\n",
    "\n",
    "for index, rows in df_3.iterrows():\n",
    "    list_3 = rows\n",
    "    batch_x_test.append(list_3)\n",
    "    \n",
    "df_4 = pd.read_csv('p_circ_100.csv',nrows=[150:149], usecols=range(71))\n",
    "for index, rows in df_4.iterrows():\n",
    "    list_4 = rows\n",
    "    batch_x_test.append(list_4)\n",
    "    \n",
    "#batch_x_train = tf.keras.utils.to_categorical(batch_x_train) #turn this into a tensor not categorical\n",
    "batch_x_test = tf.convert_to_tensor(batch_x_test, dtype=tf.float32)"
   ]
  },
  {
   "cell_type": "code",
   "execution_count": 30,
   "id": "0530b148",
   "metadata": {},
   "outputs": [
    {
     "name": "stdout",
     "output_type": "stream",
     "text": [
      "10/10 [==============================] - 0s 4ms/step\n",
      "tf.Tensor(\n",
      "[[116  33]\n",
      " [ 27 122]], shape=(2, 2), dtype=int32)\n"
     ]
    }
   ],
   "source": [
    "y_prediction = model.predict(batch_x_val)\n",
    "y_prediction = np.argmax(y_prediction, axis=1)\n",
    "y_test = np.argmax(batch_y_train, axis=1)\n",
    "result = tf.math.confusion_matrix(y_test, y_prediction, num_classes=2, weights=None)\n",
    "print(result)"
   ]
  },
  {
   "cell_type": "code",
   "execution_count": 31,
   "id": "aa4f0734",
   "metadata": {},
   "outputs": [
    {
     "data": {
      "image/png": "[encoded data removed]",
      "text/plain": [
       "<Figure size 640x480 with 2 Axes>"
      ]
     },
     "metadata": {},
     "output_type": "display_data"
    }
   ],
   "source": [
    "labels = [\"linear\", \"circular\"]\n",
    "cm = confusion_matrix(y_test, y_prediction)\n",
    "disp = ConfusionMatrixDisplay(confusion_matrix=cm, display_labels=labels)\n",
    "disp.plot(cmap=plt.cm.Blues)\n",
    "plt.show()"
   ]
  },
  {
   "cell_type": "code",
   "execution_count": 16,
   "id": "f393fbbc",
   "metadata": {},
   "outputs": [],
   "source": [
    "batch_x_test = []\n",
    "batch_y_test = []\n",
    "\n",
    "df_1 = pd.read_csv('p_lin_100.csv')\n",
    "\n",
    "for index, rows in df_1.iterrows():\n",
    "    batch_y_train.append(0)\n",
    "    list_1 = rows\n",
    "    batch_x_train.append(list_1)\n",
    "    \n",
    "df_2 = pd.read_csv('p_circ_100.csv')            \n",
    "\n",
    "for index, rows in df_2.iterrows():\n",
    "    batch_y_train.append(1)\n",
    "    list_2 = rows\n",
    "    batch_x_train.append(list_2)"
   ]
  },
  {
   "cell_type": "code",
   "execution_count": 23,
   "id": "4d1c6c5d",
   "metadata": {},
   "outputs": [],
   "source": [
    "model.save('P_extended_TS_LSTM.keras')"
   ]
  }
 ],
 "metadata": {
  "kernelspec": {
   "display_name": "Python 3 (ipykernel)",
   "language": "python",
   "name": "python3"
  },
  "language_info": {
   "codemirror_mode": {
    "name": "ipython",
    "version": 3
   },
   "file_extension": ".py",
   "mimetype": "text/x-python",
   "name": "python",
   "nbconvert_exporter": "python",
   "pygments_lexer": "ipython3",
   "version": "3.12.7"
  }
 },
 "nbformat": 4,
 "nbformat_minor": 5
}
